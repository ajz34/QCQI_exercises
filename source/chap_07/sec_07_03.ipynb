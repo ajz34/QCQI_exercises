{
 "cells": [
  {
   "cell_type": "markdown",
   "id": "9bd027b5",
   "metadata": {},
   "source": [
    "# 7.3 谐振子量子计算机"
   ]
  },
  {
   "cell_type": "markdown",
   "id": "e1d09d26",
   "metadata": {},
   "source": [
    "该节中的 5 个练习，实际上是让读者在基于位置算符与动量算符的对易关系 $[x, p] = i \\hbar$、以及谐振体系的 Hamiltonian 量 $H$ (式 (7.4)) 和为了计算方便引入的升降算符 $a^\\dagger, a$ 的定义式 (式 (7.6-7))，完整地推导出谐振体系的各种算符与态关系 (包括式 (7.5, 7.10-12))。"
   ]
  },
  {
   "cell_type": "markdown",
   "id": "1655923b",
   "metadata": {},
   "source": [
    "## 练习 7.1"
   ]
  },
  {
   "cell_type": "markdown",
   "id": "d0608d6d",
   "metadata": {},
   "source": [
    ":::{admonition} 练习 7.1\n",
    "\n",
    "根据 $x$ 和 $p$ 不对易的事实，并且实际上 $[x, p] = i \\hbar$，具体说明 $a^\\dagger a = H / \\hbar \\omega - 1/2$。\n",
    "\n",
    ":::"
   ]
  },
  {
   "cell_type": "markdown",
   "id": "43446122",
   "metadata": {},
   "source": [
    "我们先回顾一下定义式：\n",
    "\n",
    "$$\n",
    "\\begin{align*}\n",
    "H &= \\frac{p^2}{2m} + \\frac{1}{2} m \\omega^2 x^2 \\\\\n",
    "a &= \\frac{1}{\\sqrt{2 m \\hbar \\omega}} (m \\omega x + i p) \\\\\n",
    "a^\\dagger &= \\frac{1}{\\sqrt{2 m \\hbar \\omega}} (m \\omega x - i p) \\\\\n",
    "\\end{align*}\n",
    "$$"
   ]
  },
  {
   "cell_type": "markdown",
   "id": "b6dd8f45",
   "metadata": {},
   "source": [
    "那么，\n",
    "\n",
    "$$\n",
    "a^\\dagger a = \\frac{1}{2 m \\hbar \\omega} (m \\omega x - i p) (m \\omega x + i p)\n",
    "$$"
   ]
  },
  {
   "cell_type": "markdown",
   "id": "2a35fb13",
   "metadata": {},
   "source": [
    "需要记得，算符不一定满足交换律。上述等式右边，$x, p$ 分别是坐标算符与动量算符，不能像普通变量一样地化简。同时回顾到对易子定义 $[x, p] = xp - px$，因此，\n",
    "\n",
    "$$\n",
    "a^\\dagger a = \\frac{1}{2 m \\hbar \\omega} (p^2 + m^2 \\omega^2 x^2 + i m \\omega [x, p]) = \\frac{1}{2 m \\hbar \\omega} (p^2 + m^2 \\omega^2 x^2 - m \\hbar)\n",
    "$$\n",
    "\n",
    "将 $H$ 的定义式代入，很容易对原题得到证明。这其实也就对原书中的式 (7.5) 作了证明。"
   ]
  },
  {
   "cell_type": "markdown",
   "id": "7e26f30e",
   "metadata": {},
   "source": [
    "## 练习 7.2"
   ]
  },
  {
   "cell_type": "markdown",
   "id": "6e89483b",
   "metadata": {},
   "source": [
    ":::{admonition} 练习 7.2\n",
    "\n",
    "给定 $[x, p] = i \\hbar$，计算 $[a, a^\\dagger]$。\n",
    "\n",
    ":::"
   ]
  },
  {
   "cell_type": "markdown",
   "id": "efea3f83",
   "metadata": {},
   "source": [
    "利用对易子的线性性质 $[A, B + C] = [A, B] + [A, C]$，有\n",
    "\n",
    "$$\n",
    "\\begin{align*}\n",
    "[a, a^\\dagger] &= \\frac{1}{2 m \\hbar \\omega} [m \\omega x + i p, m \\omega x - i p] \\\\\n",
    "&= \\frac{1}{2 m \\hbar \\omega} \\big( m^2 \\omega^2 [x, x] - i m \\omega [x, p] + i m \\omega [p, x] + [p, p] \\big)\n",
    "\\end{align*}\n",
    "$$"
   ]
  },
  {
   "cell_type": "markdown",
   "id": "cd2c89ec",
   "metadata": {},
   "source": [
    "同一算符间的对易是零即 $[A, A] = 0$；对易子满足反对易关系即 $[A, B] = - [B, A]$，因此\n",
    "\n",
    "$$\n",
    "[a, a^\\dagger] = \\frac{1}{2 m \\hbar \\omega} \\big( - 2 i m \\omega [x, p] \\big) = - \\frac{2 i m \\omega \\cdot i \\hbar}{2 m \\hbar \\omega} = 1\n",
    "$$"
   ]
  },
  {
   "cell_type": "markdown",
   "id": "483e357f",
   "metadata": {},
   "source": [
    "## 练习 7.3"
   ]
  },
  {
   "cell_type": "markdown",
   "id": "d1d0bac2",
   "metadata": {},
   "source": [
    ":::{admonition} 练习 7.3\n",
    "\n",
    "计算 $[H, a]$，并用这个结果证明，若 $|\\psi\\rangle$ 是 $H$ 的本征态，具有能量 $E \\geqslant n \\hbar \\omega$，则 $a^n |\\psi\\rangle$ 是具有能量 $E - n \\hbar \\omega$ 的一个本征态。\n",
    "\n",
    ":::"
   ]
  },
  {
   "cell_type": "markdown",
   "id": "cef20337",
   "metadata": {},
   "source": [
    "这是对盒子 7.2 关于 $[H, a^\\dagger]$ 性质的拓展。"
   ]
  },
  {
   "cell_type": "markdown",
   "id": "267ddcbd",
   "metadata": {},
   "source": [
    "这里我们要利用 $H$ 的另一个定义：\n",
    "\n",
    "$$\n",
    "H = \\hbar \\omega \\left( a^\\dagger a + \\frac{1}{2} \\right)\n",
    "$$"
   ]
  },
  {
   "cell_type": "markdown",
   "id": "6bee99fe",
   "metadata": {},
   "source": [
    "利用到对易子的乘法分配性质 $[AB, C] = [A, C] B + A [B, C]$，并利用练习 7.2 的结论，可知，\n",
    "\n",
    "$$\n",
    "\\begin{align*}\n",
    "[H, a] &= \\hbar \\omega [a^\\dagger a + 1/2, a] \\\\\n",
    "&= \\hbar \\omega \\big( [a^\\dagger, a] a + a^\\dagger [a, a] + [1/2, a] \\big) \\\\\n",
    "&= - \\hbar \\omega [a, a^\\dagger] a + 0 + 0 \\\\\n",
    "&= - \\hbar \\omega a\n",
    "\\end{align*}\n",
    "$$"
   ]
  },
  {
   "cell_type": "markdown",
   "id": "4830c3c0",
   "metadata": {},
   "source": [
    "因此，如果 $|\\psi\\rangle$ 为 $H$ 的本征态且对应能级为 $E$，即 $H |\\psi\\rangle = E |\\psi\\rangle$，则\n",
    "\n",
    "$$\n",
    "\\begin{align*}\n",
    "H a |\\psi\\rangle &= (Ha - aH + aH) |\\psi\\rangle \\\\\n",
    "&= [H, a] |\\psi\\rangle + a H |\\psi\\rangle \\\\\n",
    "&= - \\hbar \\omega a |\\psi\\rangle + E a |\\psi\\rangle = (E - \\hbar \\omega) a |\\psi\\rangle\n",
    "\\end{align*}\n",
    "$$"
   ]
  },
  {
   "cell_type": "markdown",
   "id": "80b71ac6",
   "metadata": {},
   "source": [
    "即 $a |\\psi\\rangle$ 此时也会是 $H$ 的本征态，且对应能级是 $E - \\hbar \\omega$。依此类推，$a^2 |\\psi\\rangle$ 的能级比 $a |\\psi\\rangle$ 低 $\\hbar \\omega$，即 $E - 2 \\hbar \\omega$，等等。故 $a^n |\\psi\\rangle$ 的能级是 $E - n \\hbar \\omega$。"
   ]
  },
  {
   "cell_type": "markdown",
   "id": "ea364a21",
   "metadata": {},
   "source": [
    "## 练习 7.4, 7.5"
   ]
  },
  {
   "cell_type": "markdown",
   "id": "e1c46083",
   "metadata": {},
   "source": [
    "这两道体系是对式 (7.10-12) 的补充说明与证明。我们先对练习 7.5 作说明。"
   ]
  },
  {
   "cell_type": "markdown",
   "id": "2c28db4b",
   "metadata": {},
   "source": [
    ":::{admonition} 练习 7.5\n",
    "\n",
    "验证式 (7.11) 和式 (7.12) 与式 (7.10) 以及归一化条件 $\\langle n | n \\rangle = 1$ 相容。\n",
    "\n",
    "$$\n",
    "\\begin{align*}\n",
    "a^\\dagger a |n\\rangle &= n |n\\rangle \\tag{7.10} \\\\\n",
    "a^\\dagger |n\\rangle &= \\sqrt{n+1} |n+1\\rangle \\tag{7.11} \\\\\n",
    "a |n\\rangle &= \\sqrt{n} |n-1\\rangle \\tag{7.12}\n",
    "\\end{align*}\n",
    "$$\n",
    "\n",
    ":::"
   ]
  },
  {
   "cell_type": "markdown",
   "id": "155aff52",
   "metadata": {},
   "source": [
    "这里需要作澄清。譬如式 (7.12) 中，等式右边的 $\\sqrt{n} |n-1\\rangle$ 的 $\\sqrt{n}$ 表示一个数；而 $|n-1\\rangle$ 表示能级为第 $n-1$ 波函数，即 $H |n-1\\rangle = (n-1 + 1/2) \\hbar \\omega |n-1\\rangle$。同理地，式 (7.10) 右边的 $n |n\\rangle$ 中，第一个 $n$ 是一个数；而第二个 $|n\\rangle$ 是能级为第 $n$ 的波函数。\n",
    "\n",
    "事实上，我认为这道题应该要反过来问。有了归一化限制 $\\langle n | n \\rangle = 1$ 后，式 (7.10-12) 的推导将会是自然出现的。这些表达式并非人为规定得到的。"
   ]
  },
  {
   "cell_type": "markdown",
   "id": "82cfbff5",
   "metadata": {},
   "source": [
    "我们在练习 7.1 已经对式 (7.5) 作证明：\n",
    "\n",
    "$$\n",
    "H = \\hbar \\omega \\left( a^\\dagger a + \\frac{1}{2} \\right)\n",
    "$$\n",
    "\n",
    "同时，借用练习 7.3 或盒子 7.2 的结论，我们知道了对于 $H$ 的本征态 $|n\\rangle$，其中 $n = 0, 1, \\cdots$，具有结论\n",
    "\n",
    "$$\n",
    "H |n\\rangle = (E_0 + n \\hbar \\omega) |n\\rangle = (n + 1/2) \\hbar \\omega |n\\rangle\n",
    "$$\n",
    "\n",
    "其中，$E_0 = \\hbar \\omega / 2$ 是零点能，即 $|0\\rangle$ 的能量。注意这里的 $|0\\rangle$ 不是之前的单量子比特的计算基，而表示的是谐振子的基态。并且，$|n\\rangle$ 可以用产生算符来构造，即 $|n\\rangle \\propto (a^\\dagger)^n |0\\rangle$。最后的问题其归一化系数应当是多少。"
   ]
  },
  {
   "cell_type": "markdown",
   "id": "53325448",
   "metadata": {},
   "source": [
    "首先是式 (7.10)。该式可以很容易地通过式 (7.5) 给出：\n",
    "\n",
    "$$\n",
    "\\begin{align*}\n",
    "&\\quad H |n\\rangle = (a^\\dagger a + 1/2) \\hbar \\omega |n\\rangle = (n + 1/2) \\hbar \\omega |n\\rangle \\\\\n",
    "&\\Rightarrow (a^\\dagger a + 1/2) |n\\rangle = (n + 1/2) |n\\rangle \\\\\n",
    "&\\Rightarrow a^\\dagger a |n\\rangle = n |n\\rangle\n",
    "\\end{align*}\n",
    "$$"
   ]
  },
  {
   "cell_type": "markdown",
   "id": "41c491aa",
   "metadata": {},
   "source": [
    "随后是式 (7.12)。我们将上式左乘 $\\langle n|$，得到\n",
    "\n",
    "$$\n",
    "\\langle n | a^\\dagger a | n \\rangle = \\langle n | n | n \\rangle = n \\langle n | n \\rangle = n\n",
    "$$"
   ]
  },
  {
   "cell_type": "markdown",
   "id": "e0f4e7e9",
   "metadata": {},
   "source": [
    "注意到 $a$ 与 $a^\\dagger$ 在定义上互为自伴算符，因此上式表示的是 $\\big\\Vert a|n\\rangle \\big\\Vert^2 = n$，即该态的归一化常数是 $\\sqrt{n}$。又依据练习 7.3 的中间推导过程，知道 $a |n\\rangle \\propto |n-1\\rangle$，即 $a$ 作用在 $|n\\rangle$ 之后得到的态是能级比 $E_n = (n + 1/2) \\hbar \\omega$ 低 $\\hbar \\omega$ 的态 $|n-1\\rangle$。因此，\n",
    "\n",
    "$$\n",
    "a |n\\rangle = \\sqrt{n} |n-1\\rangle\n",
    "$$"
   ]
  },
  {
   "cell_type": "markdown",
   "id": "1e2d29f1",
   "metadata": {},
   "source": [
    "最后是式 (7.11)。根据式 (7.12)，我们可以得到推论\n",
    "\n",
    "$$\n",
    "n = \\langle n | a^\\dagger a | n \\rangle = \\sqrt{n} \\langle n | a^\\dagger | n-1 \\rangle\n",
    "$$"
   ]
  },
  {
   "cell_type": "markdown",
   "id": "7e1199ae",
   "metadata": {},
   "source": [
    "我们在盒子 7.2 知道，$a^\\dagger |n-1\\rangle \\propto |n\\rangle$；依据上式，我们知道归一化系数是 $\\sqrt{n}$，即\n",
    "\n",
    "$$\n",
    "a^\\dagger |n-1\\rangle = \\sqrt{n} |n\\rangle\n",
    "$$\n",
    "\n",
    "如果我们将 $n+1$ 替换上式的 $n$，那么就立即得到了式 (7.11)。"
   ]
  },
  {
   "cell_type": "markdown",
   "id": "c962fbd9",
   "metadata": {},
   "source": [
    "因此与其说是式 (7.10-12) 与归一化条件相容，不如说是归一化条件导出了式 (7.10-7.12)。"
   ]
  },
  {
   "cell_type": "markdown",
   "id": "ab35152c",
   "metadata": {},
   "source": [
    ":::{admonition} 练习 7.4\n",
    "\n",
    "证明 $\\displaystyle |n\\rangle = \\frac{(a^\\dagger)^n}{\\sqrt{n!}} |0\\rangle$。\n",
    "\n",
    ":::"
   ]
  },
  {
   "cell_type": "markdown",
   "id": "303b9433",
   "metadata": {},
   "source": [
    "由式 (7.11)，立即得到\n",
    "\n",
    "$$\n",
    "\\frac{(a^\\dagger)^n}{\\sqrt{n!}} |0\\rangle = \\frac{(a^\\dagger)^{n-1}}{\\sqrt{n!}} \\cdot \\sqrt{1} |1\\rangle = \\frac{(a^\\dagger)^{n-2}}{\\sqrt{n!}} \\cdot \\sqrt{1} \\sqrt{2} |2\\rangle = \\cdots = \\frac{1}{\\sqrt{n!}} \\cdot \\sqrt{n!} |n\\rangle = |n\\rangle\n",
    "$$"
   ]
  }
 ],
 "metadata": {
  "kernelspec": {
   "display_name": "Python 3",
   "language": "python",
   "name": "python3"
  },
  "language_info": {
   "codemirror_mode": {
    "name": "ipython",
    "version": 3
   },
   "file_extension": ".py",
   "mimetype": "text/x-python",
   "name": "python",
   "nbconvert_exporter": "python",
   "pygments_lexer": "ipython3",
   "version": "3.8.5"
  }
 },
 "nbformat": 4,
 "nbformat_minor": 5
}
