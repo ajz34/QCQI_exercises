{
 "cells": [
  {
   "cell_type": "markdown",
   "id": "53f1f89d",
   "metadata": {},
   "source": [
    "# 4.7 量子系统的仿真"
   ]
  },
  {
   "cell_type": "markdown",
   "id": "d5712954",
   "metadata": {},
   "source": [
    "## 练习 4.46 (量子系统复杂性的指数增长)"
   ]
  },
  {
   "cell_type": "markdown",
   "id": "e06b3425",
   "metadata": {},
   "source": [
    ":::{admonition} 练习 4.46\n",
    "\n",
    "令 $\\rho$ 是描述 $n$ 量子比特状态的一个密度矩阵，证明对 $\\rho$ 的描述需要 $4^n - 1$ 个独立实数。\n",
    "\n",
    ":::"
   ]
  },
  {
   "cell_type": "markdown",
   "id": "d827c553",
   "metadata": {},
   "source": [
    ":::{warning}\n",
    "\n",
    "我其实不清楚，为何一定要是实数。下面是混合复数与实数的说明。\n",
    "\n",
    ":::"
   ]
  },
  {
   "cell_type": "markdown",
   "id": "1547f5d0",
   "metadata": {},
   "source": [
    "一种说明方式是，对于 $n$ 量子比特，其态向量是 $2^n$ 维度的；那么其构成的矩阵也便是 $4^n$ 大小的。但由于迹 $\\mathrm{tr} (\\rho) = 1$，因此独立数为 $4^n - 1$。"
   ]
  },
  {
   "cell_type": "markdown",
   "id": "948da2b2",
   "metadata": {},
   "source": [
    "另一种说明方式是，态向量维度是 $2^n$；但由于归一化条件受限，因此不考虑全局相位的话，描述一个态的实际变量数是 $2^n - 1$。在 $2^n$ 维空间下，相互正交的态也必然存在 $2^n$ 个。对于一个系综，这 $2^n$ 个态各自对应其出现概率，但由于概率之和是 1，因此概率变量数总共是 $2^n - 1$。因此，将态变量数与态存在数相乘，再加上概率变量数，得到\n",
    "\n",
    "$$\n",
    "(2^n - 1) \\times 2^n + 2^n - 1 = 4^n - 1\n",
    "$$"
   ]
  },
  {
   "cell_type": "markdown",
   "id": "a8713e06",
   "metadata": {},
   "source": [
    "## 练习 4.47"
   ]
  },
  {
   "cell_type": "markdown",
   "id": "a927e598",
   "metadata": {},
   "source": [
    ":::{admonition} 练习 4.47\n",
    "\n",
    "对 $H = \\sum_k^L H_k$，证明若对所有的 $j, k$ 都有 $[H_j, H_k] = 0$，则对所有的 $t$，\n",
    "\n",
    "$$\n",
    "e^{-i H t} = \\prod_k^L e^{-i H_k t} = e^{-i H_1 t} e^{-i H_2 t} \\cdots e^{-i H_L t}\n",
    "$$\n",
    "\n",
    ":::"
   ]
  },
  {
   "cell_type": "markdown",
   "id": "06811418",
   "metadata": {},
   "source": [
    "该练习的证明思路很简单。我们考虑这样的问题：若 $[A, B] = 0$ 即 $A, B$ 可对易，那么 $e^{A+B} = e^A e^B$ 是否成立？\n",
    "\n",
    "显然是成立的。我们将其作 Taylor 展开到两阶，并利用 $AB = BA$，有：\n",
    "\n",
    "$$\n",
    "\\begin{align*}\n",
    "e^{A+B} &= 1 + (A+B) + \\frac{1}{2} (A^2 + AB + BA + B^2) + O \\big( (A+B)^3 \\big) \\\\\n",
    "&= 1 + (A+B) + \\frac{1}{2} (A^2 + 2 AB + B^2) + O \\big( (A+B)^3 \\big) \\\\\n",
    "e^{A} e^{B} &= \\left( 1 + A + \\frac{1}{2} A^2 + O (A^3) \\right) \\left( 1 + B + \\frac{1}{2} B^2 + O(B^3) \\right) \\\\\n",
    "&= 1 + (A+B) + \\frac{1}{2} (A^2 + 2 AB + B^2) + A^2 B + A B^2 + \\frac{1}{4} A^2 B^2 + O(A^3) + B(B^3)\n",
    "\\end{align*}\n",
    "$$"
   ]
  },
  {
   "cell_type": "markdown",
   "id": "3b7a121d",
   "metadata": {},
   "source": [
    "我们发现若只展开到二次幂，它们都具有 $1/2 (A^2 + 2AB + B^2)$ 的形式。注意到这利用了 $A, B$ 的可对易性质。这对于更高次幂其实都成立。严格的证明尽管与二项式定理基本一致，但过程稍微需要一些功夫。"
   ]
  },
  {
   "cell_type": "markdown",
   "id": "27d13597",
   "metadata": {},
   "source": [
    "---"
   ]
  },
  {
   "cell_type": "markdown",
   "id": "51c79823",
   "metadata": {},
   "source": [
    "首先我们化简问题。我们令 $M_k = -i H_k t$ 是关于 $t$ 的矩阵；但我们会发现时间 $t$ 和负系数 $i$ 在这道题证明中没有什么意义。因此，若 $M = \\sum_k^L M_k$，那么原先问题化为\n",
    "\n",
    "$$\n",
    "e^M = \\prod_k^L e^{M_k} = e^{M_1} e^{M_2} \\cdots e^{M_L}\n",
    "$$\n",
    "\n",
    "同时，另一个题目条件化为了 $[M_j, M_k] = - i t [H_j, H_k] = 0$。"
   ]
  },
  {
   "cell_type": "markdown",
   "id": "1524604c",
   "metadata": {},
   "source": [
    "---"
   ]
  },
  {
   "cell_type": "markdown",
   "id": "af972e37",
   "metadata": {},
   "source": [
    "使用数学归纳法。若 $A = \\sum_k^{L-1} M_k$ 时，等式 $e^A = \\prod_k^{L-1} e^{M_k}$ 成立；那么对于 $L$ 的情况，我们假设 $B = M_L$，那么 $A = M - M_L$。若 $e^M = e^{A+B} = e^A e^B$ 成立，那么一方面，该等式很容易地推广到 $L=2$ 的情形，归纳法所需要的初始情况得到满足；另一方面，这也符合归纳法对于递增的 $L$ 的要求。"
   ]
  },
  {
   "cell_type": "markdown",
   "id": "5688a8fd",
   "metadata": {},
   "source": [
    "我们同时考察 $[A, B]$：\n",
    "\n",
    "$$\n",
    "[A, B] = \\left[ \\sum_k^{L-1} M_k, M_L \\right] = \\sum_{k}^{L-1} [M_k, M_L] = 0\n",
    "$$"
   ]
  },
  {
   "cell_type": "markdown",
   "id": "7dacbae2",
   "metadata": {},
   "source": [
    "因此，原题化为了下述问题：若 $[A, B] = 0$ 即 $A, B$ 可对易，那么证明 $e^{A+B} = e^A e^B$。这就完成了问题的化简。"
   ]
  },
  {
   "cell_type": "markdown",
   "id": "c105db89",
   "metadata": {},
   "source": [
    "---"
   ]
  },
  {
   "cell_type": "markdown",
   "id": "87085c2f",
   "metadata": {},
   "source": [
    "我们知道，\n",
    "\n",
    "$$\n",
    "e^{A+B} = \\sum_{\\gamma=0}^\\infty \\frac{1}{\\gamma!} (A+B)^\\gamma, \\quad e^A e^B = \\sum_{\\alpha=0}^\\infty \\frac{1}{\\alpha!} A^\\alpha \\sum_{\\beta=0}^\\infty \\frac{1}{\\beta!} B^\\beta = \\sum_{\\gamma=0}^\\infty \\sum_{\\lambda=0}^\\gamma \\frac{1}{\\lambda! (\\gamma - \\lambda)!} A^\\lambda B^{\\gamma - \\lambda}\n",
    "$$"
   ]
  },
  {
   "cell_type": "markdown",
   "id": "8d789939",
   "metadata": {},
   "source": [
    "那么若下述等式对任意自然数 $\\gamma$ 成立，那么 $e^{A+B} = e^A e^B$：\n",
    "\n",
    "$$\n",
    "\\frac{1}{\\gamma!} (A+B)^\\gamma = \\sum_{\\lambda=0}^\\gamma \\frac{1}{\\lambda! (\\gamma - \\lambda)!} A^\\lambda B^{\\gamma - \\lambda}\n",
    "$$"
   ]
  },
  {
   "cell_type": "markdown",
   "id": "f8c60d9e",
   "metadata": {},
   "source": [
    "下面我们证明上述等式。实际上这与二项式定理的证明几乎一致。使用数学归纳法。显然 $\\gamma = 0$ 时成立；那么对于 $\\gamma + 1$ 的情况，\n",
    "\n",
    "$$\n",
    "\\begin{align*}\n",
    "\\frac{1}{(\\gamma+1)!} (A+B)^{\\gamma+1} &= \\frac{1}{\\gamma+1} \\frac{1}{\\gamma!} (A+B)^{\\gamma} (A+B) \\\\\n",
    "&= \\frac{1}{\\gamma+1} \\sum_{\\lambda=0}^\\gamma \\frac{1}{\\lambda! (\\gamma - \\lambda)!} A^\\lambda B^{\\gamma - \\lambda} (A+B)\n",
    "\\end{align*}\n",
    "$$"
   ]
  },
  {
   "cell_type": "markdown",
   "id": "c3bf751b",
   "metadata": {},
   "source": [
    "利用可对易性，易知\n",
    "\n",
    "$$\n",
    "\\begin{align*}\n",
    "A^\\lambda B^{\\gamma - \\lambda} (A+B) &= A^\\lambda B^{\\gamma - \\lambda} A + A^\\lambda B^{\\gamma - \\lambda} B = A^\\lambda A B^{\\gamma - \\lambda} + A^\\lambda B^{\\gamma - \\lambda} B \\\\&= A^{\\lambda+1} B^{\\gamma - \\lambda} + A^\\lambda B^{\\gamma - \\lambda+1}\n",
    "\\end{align*}\n",
    "$$"
   ]
  },
  {
   "cell_type": "markdown",
   "id": "b653561a",
   "metadata": {},
   "source": [
    "因此，\n",
    "\n",
    "$$\n",
    "\\frac{1}{(\\gamma+1)!} (A+B)^{\\gamma+1} = \\frac{1}{\\gamma+1} \\left(\\sum_{\\lambda=0}^\\gamma \\frac{1}{\\lambda! (\\gamma - \\lambda)!} A^{\\lambda+1} B^{\\gamma - \\lambda} + \\sum_{\\lambda=0}^\\gamma \\frac{1}{\\lambda! (\\gamma - \\lambda)!} A^\\lambda B^{\\gamma - \\lambda+1} \\right)\n",
    "$$"
   ]
  },
  {
   "cell_type": "markdown",
   "id": "a780d4f1",
   "metadata": {},
   "source": [
    "我们将等是右边的第一个求和角标的 $\\lambda + 1$ 替换为 $\\lambda$，重新组织求和过程：\n",
    "\n",
    "$$\n",
    "\\begin{align*}\n",
    "\\frac{1}{(\\gamma+1)!} (A+B)^{\\gamma+1} &= \\frac{1}{\\gamma+1} \\left(\\sum_{\\lambda=1}^{\\gamma+1} \\frac{1}{(\\lambda-1)! (\\gamma - \\lambda + 1)!} A^{\\lambda} B^{\\gamma - \\lambda + 1} + \\sum_{\\lambda=0}^\\gamma \\frac{1}{\\lambda! (\\gamma - \\lambda)!} A^\\lambda B^{\\gamma - \\lambda+1} \\right) \\\\\n",
    "&= \\frac{1}{\\gamma+1} \\sum_{\\lambda=1}^{\\gamma} \\left( \\frac{1}{(\\lambda-1)! (\\gamma - \\lambda + 1)!} + \\frac{1}{\\lambda! (\\gamma - \\lambda)!} \\right) A^{\\lambda} B^{\\gamma - \\lambda + 1} + \\frac{1}{(\\gamma+1)!} A^0 B^{\\gamma+1} + \\frac{1}{(\\gamma+1)!} A^{\\gamma+1} B^0\n",
    "\\end{align*}\n",
    "$$"
   ]
  },
  {
   "cell_type": "markdown",
   "id": "047901f6",
   "metadata": {},
   "source": [
    "对于 $\\lambda = 1, 2, \\cdots, \\gamma$ 时，\n",
    "\n",
    "$$\n",
    "\\frac{1}{(\\lambda-1)! (\\gamma - \\lambda + 1)!} + \\frac{1}{\\lambda! (\\gamma - \\lambda)!} = \\frac{(\\lambda) + (\\gamma - \\lambda + 1)}{\\lambda! (\\gamma - \\lambda + 1)!} = \\frac{\\gamma + 1}{\\lambda! (\\gamma - \\lambda + 1)!}\n",
    "$$"
   ]
  },
  {
   "cell_type": "markdown",
   "id": "08a4a277",
   "metadata": {},
   "source": [
    "因此，\n",
    "\n",
    "$$\n",
    "\\frac{1}{(\\gamma+1)!} (A+B)^{\\gamma+1} = \\sum_{\\lambda=1}^{\\gamma+1} \\frac{1}{\\lambda! (\\gamma - \\lambda + 1)!} A^{\\lambda} B^{\\gamma - \\lambda + 1} + \\frac{1}{(\\gamma+1)!} A^{\\gamma+1} B^0 = \\sum_{\\lambda=0}^{\\gamma+1} \\frac{1}{\\lambda! (\\gamma - \\lambda + 1)!} A^{\\lambda} B^{\\gamma - \\lambda + 1}\n",
    "$$"
   ]
  },
  {
   "cell_type": "markdown",
   "id": "346d190a",
   "metadata": {},
   "source": [
    "依据数学归纳法，证明完毕。"
   ]
  },
  {
   "cell_type": "markdown",
   "id": "e94f5ec3",
   "metadata": {},
   "source": [
    "## 练习 4.48"
   ]
  },
  {
   "cell_type": "markdown",
   "id": "a195654d",
   "metadata": {},
   "source": [
    ":::{admonition} 练习 4.48\n",
    "\n",
    "若对于 $n$ 粒子体系，每个算符 $H_k$ 最多影响 $c$ 个粒子，那么这意味着式 (4.97) 中求和上限 $L$ 至多是关于 $n$ 的多项式。\n",
    "\n",
    "$$\n",
    "H = \\sum_{k=1}^L H_k \\tag{4.97}\n",
    "$$\n",
    "\n",
    ":::"
   ]
  },
  {
   "cell_type": "markdown",
   "id": "e1f9db03",
   "metadata": {},
   "source": [
    "题目暗含的意思是在这种情况下，$L$ 并不随着 $n$ 呈指数级变化。"
   ]
  },
  {
   "cell_type": "markdown",
   "id": "91a010fd",
   "metadata": {},
   "source": [
    "这类算符实际上也称为 $c$ 体算符 ($c$-Body Operator)，即作用于 $c$ 个粒子的算符。在化学中，若体系在 Bohn-Oppenheimer 近似下不受特殊外场扰动，那么只会包含一体算符 (动能、外势能算符) 或二体算符 (电子互斥算符)。"
   ]
  },
  {
   "cell_type": "markdown",
   "id": "5a9687e5",
   "metadata": {},
   "source": [
    "若我们用 $C_n^c$ 表示组合数，那么对于 $n$ 粒子体系，$k$ 体算符至多有 $C_n^k = n (n-1) \\cdots (n-k) < n^k$ 个。因此，\n",
    "\n",
    "$$\n",
    "L \\leqslant \\sum_{k=0}^c C_n^k < \\sum_{k=0}^c n^k = O(n^c)\n",
    "$$\n",
    "\n",
    "即 $L$ 是 $n$ 的多项式。"
   ]
  },
  {
   "cell_type": "markdown",
   "id": "fd0cd895",
   "metadata": {},
   "source": [
    "## 练习 4.49 (Baker-Campbell-Hausdorf 公式)"
   ]
  },
  {
   "cell_type": "markdown",
   "id": "31a636de",
   "metadata": {},
   "source": [
    ":::{admonition} 练习 4.49\n",
    "\n",
    "证明\n",
    "\n",
    "$$\n",
    "e^{(A+B) \\Delta t} = e^{A \\Delta t} e^{B \\Delta t} e^{- \\frac{1}{2} [A, B] \\Delta t^2} + O(\\Delta t^3)\n",
    "\\tag{4.105}\n",
    "$$\n",
    "\n",
    "并且再证明\n",
    "\n",
    "$$\n",
    "e^{i (A + B) \\Delta t} = e^{i A \\Delta t} e^{i B \\Delta t} + O(\\Delta t^2)\n",
    "\\tag{4.103}\n",
    "$$\n",
    "\n",
    "$$\n",
    "e^{i (A + B) \\Delta t} = e^{i A \\Delta t/2} e^{i B \\Delta t} e^{i A \\Delta t/2} + O(\\Delta t^3)\n",
    "\\tag{4.104}\n",
    "$$\n",
    "\n",
    ":::"
   ]
  },
  {
   "cell_type": "markdown",
   "id": "5c9efe78",
   "metadata": {},
   "source": [
    "需要注意这里不一定有 $[A, B] = 0$ 的条件了。我们首先展开式 (4.105) 的左侧：\n",
    "\n",
    "$$\n",
    "\\begin{align*}\n",
    "e^{(A+B) \\Delta t} &= 1 + (A+B) \\Delta t + \\frac{1}{2} (A+B)^2 \\Delta^2 + O(\\Delta t^3) \\\\\n",
    "&= 1 + (A + B) \\Delta t + \\frac{1}{2} (A^2 + AB + BA + B^2) \\Delta t^2 + O(\\Delta t^3)\n",
    "\\end{align*}\n",
    "$$"
   ]
  },
  {
   "cell_type": "markdown",
   "id": "6c01d0e0",
   "metadata": {},
   "source": [
    "再考察式 (4.105) 的右侧并回顾到 $[A, B] = AB - BA$：\n",
    "\n",
    "$$\n",
    "\\begin{align*}\n",
    "e^{A \\Delta t} e^{B \\Delta t} e^{- \\frac{1}{2} [A, B] \\Delta t^2}\n",
    "&= \\left( 1 + A \\Delta t + \\frac{1}{2} A^2 \\Delta t^2 \\right) \\left( 1 + B \\Delta t + \\frac{1}{2} B^2 \\Delta t^2 \\right) \\left( 1 - \\frac{1}{2} [A, B] \\Delta t^2 \\right) + O(\\Delta t^3) \\\\\n",
    "&= 1 + (A + B) \\Delta t + \\left( \\frac{1}{2} A^2 + \\frac{1}{2} B^2 + AB - \\frac{1}{2} [A, B] \\right) \\Delta t^2 + O(\\Delta t^3) \\\\\n",
    "&= 1 + (A + B) \\Delta t + \\frac{1}{2} (A^2 + AB + BA + B^2) \\Delta t^2 + O(\\Delta t^3)\n",
    "\\end{align*}\n",
    "$$"
   ]
  },
  {
   "cell_type": "markdown",
   "id": "1e39d9f6",
   "metadata": {},
   "source": [
    "因此，式 (4.105) 在忽略 $O(\\Delta t^3)$ 小量下是等价的。"
   ]
  },
  {
   "cell_type": "markdown",
   "id": "e31b6d03",
   "metadata": {},
   "source": [
    "---"
   ]
  },
  {
   "cell_type": "markdown",
   "id": "e7216dbd",
   "metadata": {},
   "source": [
    "式 (4.103) 的证明过程仿上，很容易给出。"
   ]
  },
  {
   "cell_type": "markdown",
   "id": "cbb6ec11",
   "metadata": {},
   "source": [
    "---"
   ]
  },
  {
   "cell_type": "markdown",
   "id": "db2f6be2",
   "metadata": {},
   "source": [
    "式 (4.104) 的证明固然也可以仿照 (4.105) 对指数作 Taylor 展开。但我们也可以利用 (4.105) 的结论。我们指出，Baker-Campbell-Hausdorf 公式还可以写成下述形式：\n",
    "\n",
    "$$\n",
    "e^{(A+B) \\Delta t} = e^{A \\Delta t} e^{B \\Delta t} e^{- \\frac{1}{2} [A, B] \\Delta t^2} + O(\\Delta t^3) = e^{(A+B) \\Delta t} = e^{- \\frac{1}{2} [B, A] \\Delta t^2} e^{B \\Delta t} e^{A \\Delta t} + O(\\Delta t^3)\n",
    "$$\n",
    "\n",
    "证明过程仿上。我们同时注意到 $[A, B] = - [B, A]$，因此 (系数 $i$ 不影响证明)，"
   ]
  },
  {
   "cell_type": "markdown",
   "id": "3b00af33",
   "metadata": {},
   "source": [
    "$$\n",
    "\\begin{align*}\n",
    "e^{i (A+B) \\Delta t} &= e^{i \\frac{1}{2} (A+B) \\Delta t} e^{\\frac{1}{2} i (A+B) \\Delta t} \\\\\n",
    "&= \\big( e^{i \\frac{1}{2} A \\Delta t} e^{i \\frac{1}{2} B \\Delta t} e^{- i \\frac{1}{4} [A, B] \\Delta t^2} + O(\\Delta t^3) \\big) \\big( e^{- i \\frac{1}{4} [B, A] \\Delta t^2} e^{i \\frac{1}{2} B \\Delta t} e^{i \\frac{1}{2} A \\Delta t} + O(\\Delta t^3) \\big) \\\\\n",
    "&= e^{i \\frac{1}{2} A \\Delta t} e^{i \\frac{1}{2} B \\Delta t} e^{- i \\frac{1}{4} [A, B] \\Delta t^2} e^{- i \\frac{1}{4} [B, A] \\Delta t^2} e^{i \\frac{1}{2} B \\Delta t} e^{i \\frac{1}{2} A \\Delta t} + O(\\Delta t^3) \\\\\n",
    "&= e^{i \\frac{1}{2} A \\Delta t} e^{i \\frac{1}{2} B \\Delta t} e^{i \\frac{1}{2} B \\Delta t} e^{i \\frac{1}{2} A \\Delta t} + O(\\Delta t^3) \\\\\n",
    "&= e^{i \\frac{1}{2} A \\Delta t} e^{i B \\Delta t} e^{i \\frac{1}{2} A \\Delta t} + O(\\Delta t^3)\n",
    "\\end{align*}\n",
    "$$"
   ]
  },
  {
   "cell_type": "markdown",
   "id": "a101e4d0",
   "metadata": {},
   "source": [
    "上式三次利用了练习 4.47 的推演结论，即若 $[A, B] = 0$ 则 $e^{A+B} = e^A e^B$。"
   ]
  },
  {
   "cell_type": "markdown",
   "id": "d18debbf",
   "metadata": {},
   "source": [
    "## 练习 4.50"
   ]
  },
  {
   "cell_type": "markdown",
   "id": "c26da067",
   "metadata": {},
   "source": [
    ":::{admonition} 练习 4.50\n",
    "\n",
    "令 $H = \\sum_k^L H_k$，且定义\n",
    "\n",
    "$$\n",
    "U_{\\Delta t} = \\big( e^{- i H_1 \\Delta t} e^{- i H_2 \\Delta t} \\cdots e^{- i H_L \\Delta t} \\big) \\big( e^{- i H_L \\Delta t} \\cdots e^{- i H_2 \\Delta t} e^{- i H_1 \\Delta t} \\big)\n",
    "$$\n",
    "\n",
    "1. 证明 $U_{\\Delta t} = e^{- 2 i H \\Delta t} + O(\\Delta t^3)$；\n",
    "2. 利用盒子 4.1 的结果，证明对某个常数 $\\alpha$ 与任意正整数 $m$，有\n",
    "\n",
    "    $$\n",
    "    E(U_{\\Delta t}^m, e^{-2mi H \\Delta t}) \\leqslant m \\alpha \\Delta t^3\n",
    "    $$\n",
    "\n",
    ":::"
   ]
  },
  {
   "cell_type": "markdown",
   "id": "08b16d87",
   "metadata": {},
   "source": [
    "**第一问**"
   ]
  },
  {
   "cell_type": "markdown",
   "id": "808290f3",
   "metadata": {},
   "source": [
    "反复套用式 (4.104) 就很容易给出结论：\n",
    "\n",
    "$$\n",
    "\\begin{align*}\n",
    "U_{\\Delta t} &= e^{- i H_1 \\Delta t} e^{- i H_2 \\Delta t} \\cdots e^{- i H_{L-1} \\Delta t} e^{- i H_L \\Delta t} e^{- i H_L \\Delta t} e^{- i H_{L-1} \\Delta t} \\cdots e^{- i H_2 \\Delta t} e^{- i H_1 \\Delta t} \\\\\n",
    "&= e^{- i H_1 \\Delta t} e^{- i H_2 \\Delta t} \\cdots e^{- 2 i (H_{L-1} + H_L) \\Delta t} \\cdots e^{- i H_2 \\Delta t} e^{- i H_1 \\Delta t} + O(\\Delta t^3) \\\\\n",
    "&= \\cdots \\\\\n",
    "&= e^{- i H_1 \\Delta t} e^{- 2 i (H_2 + H_3 + \\cdots + H_L) \\Delta t} e^{- i H_1 \\Delta t} + O(\\Delta t^3) \\\\\n",
    "&= e^{- 2 i (H_1 + H_2 + H_3 + \\cdots + H_L) \\Delta t} + O(\\Delta t^3) \\\\\n",
    "&= e^{- 2 i H \\Delta t} + O(\\Delta t^3)\n",
    "\\end{align*}\n",
    "$$"
   ]
  },
  {
   "cell_type": "markdown",
   "id": "b2e377c3",
   "metadata": {},
   "source": [
    "---"
   ]
  },
  {
   "cell_type": "markdown",
   "id": "67427ab1",
   "metadata": {},
   "source": [
    "**第二问**"
   ]
  },
  {
   "cell_type": "markdown",
   "id": "6e65ec48",
   "metadata": {},
   "source": [
    "简单回顾盒子 4.1 的结论 (4.69)。若序列 $V_1, V_2, \\cdots, V_m$ 用来近似某个门的另一个序列 $U_1, U_2, \\cdots, U_m$，那么\n",
    "\n",
    "$$\n",
    "E(U_m U_{m-1} \\cdots U_2 U_1, V_m V_{m-1} \\cdots V_2 V_1) \\leqslant \\sum_{j=1}^m E(U_j, V_j)\n",
    "$$"
   ]
  },
  {
   "cell_type": "markdown",
   "id": "d75a02b4",
   "metadata": {},
   "source": [
    "误差记号 $E(\\cdot, \\cdot)$ 中两个参量的顺序是可以交换的。对于这道题，$V_j$ 全部是 $U_{\\Delta t}$，$U_j$ 全部是 $e^{-2iH \\Delta t}$。因此，\n",
    "\n",
    "$$\n",
    "E(U_{\\Delta t}^m, e^{-2mi H \\Delta t}) \\leqslant m E(U_{\\Delta t}, e^{-2i H \\Delta t})\n",
    "$$"
   ]
  },
  {
   "cell_type": "markdown",
   "id": "51a05653",
   "metadata": {},
   "source": [
    "依据误差的定义，\n",
    "\n",
    "$$\n",
    "E(U_{\\Delta t}, e^{-2i H \\Delta t}) = \\max_{|\\psi\\rangle} \\left\\Vert (U_{\\Delta t} - e^{-2i H \\Delta t}) |\\psi\\rangle \\right\\Vert\n",
    "$$"
   ]
  },
  {
   "cell_type": "markdown",
   "id": "e161940d",
   "metadata": {},
   "source": [
    "我们可以定义对于任意小的 $\\Delta t > 0$ 都有界，但并不一定是小量的算符 $D$，使得 $U_{\\Delta t} - e^{-2i H \\Delta t} = D \\Delta t^3 + O(\\Delta t)^4$，那么\n",
    "\n",
    "$$\n",
    "E(U_{\\Delta t}, e^{-2i H \\Delta t}) = \\max_{|\\psi\\rangle} \\left\\Vert D |\\psi\\rangle \\right\\Vert \\Delta t^3 + O(\\Delta t^4)\n",
    "$$"
   ]
  },
  {
   "cell_type": "markdown",
   "id": "a290e81e",
   "metadata": {},
   "source": [
    "我们可以定义\n",
    "\n",
    "$$\n",
    "\\alpha = \\max_{|\\psi\\rangle} \\left\\Vert D |\\psi\\rangle \\right\\Vert\n",
    "$$\n",
    "\n",
    "因此，在这种定义下，\n",
    "\n",
    "$$\n",
    "E(U_{\\Delta t}^m, e^{-2mi H \\Delta t}) \\leqslant m E(U_{\\Delta t}, e^{-2i H \\Delta t}) = m \\alpha \\Delta t^3 + O(\\Delta t^4)\n",
    "$$"
   ]
  },
  {
   "cell_type": "markdown",
   "id": "50cdf306",
   "metadata": {},
   "source": [
    "---"
   ]
  },
  {
   "cell_type": "markdown",
   "id": "9318b935",
   "metadata": {},
   "source": [
    "**补充说明**"
   ]
  },
  {
   "cell_type": "markdown",
   "id": "fc534d17",
   "metadata": {},
   "source": [
    "事实上，依据线性代数的结论，$\\alpha$ 取到 $D$ 的最大本征值的绝对值。但这个 $D$ 算符与 $\\Delta t$ 无关，且 $\\alpha$ 尽管有界但不是变量，更不是可以取到任意小的误差量。\n",
    "\n",
    "因此，这个结论其实是表明，若 $\\Delta t$ 足够小，那么采用 $U_{\\Delta t}$ 来近似 $e^{- 2 i H \\Delta t}$ 确实地可以实现任意精度的量子计算仿真。我们令预期的仿真精度是 $\\delta$，那么在仿真时间长度 $t$、单个仿真时间差 $\\Delta t$ 下，我们需要 $m = t / \\Delta t$ 个仿真算符连乘。若我们取仿真时间差是\n",
    "\n",
    "$$\n",
    "\\Delta t < \\sqrt{\\frac{\\delta}{t \\alpha}}\n",
    "$$"
   ]
  },
  {
   "cell_type": "markdown",
   "id": "d8bb0d1a",
   "metadata": {},
   "source": [
    "那么整个过程的仿真总误差是\n",
    "\n",
    "$$\n",
    "E(U_{\\Delta t}^m, e^{-2mi H \\Delta t}) \\leqslant m \\alpha \\Delta t^3 + O(\\Delta t^4) = \\frac{t}{\\Delta t} \\alpha \\Delta t^3 + O(\\Delta t^4) < \\delta + O(\\Delta t^4)\n",
    "$$"
   ]
  },
  {
   "cell_type": "markdown",
   "id": "b90873d6",
   "metadata": {},
   "source": [
    "## 练习 4.51"
   ]
  },
  {
   "cell_type": "markdown",
   "id": "4d140c97",
   "metadata": {},
   "source": [
    ":::{admonition} 练习 4.51\n",
    "\n",
    "构造一个 Hamilton 量\n",
    "\n",
    "$$\n",
    "H = X_1 \\otimes Y_2 \\otimes Z_3\n",
    "$$\n",
    "\n",
    "的量子线路，模拟对任意的 $\\Delta t$ 执行酉变换 $e^{- i \\Delta t H}$。\n",
    "\n",
    ":::"
   ]
  },
  {
   "cell_type": "markdown",
   "id": "3dbeca14",
   "metadata": {},
   "source": [
    "由于\n",
    "\n",
    "$$\n",
    "\\begin{align*}\n",
    "X &= H Z H \\\\\n",
    "Y &= R_z \\left( \\frac{\\pi}{2} \\right) H Z H R_z \\left( - \\frac{\\pi}{2} \\right)\n",
    "\\end{align*}\n",
    "$$"
   ]
  },
  {
   "cell_type": "markdown",
   "id": "36e50bbc",
   "metadata": {},
   "source": [
    "因此我们将这些分解放入线路图中，可以得到\n",
    "\n",
    "![ex-4.51.1](assets/ex-4.51.1.svg)"
   ]
  }
 ],
 "metadata": {
  "kernelspec": {
   "display_name": "Python 3",
   "language": "python",
   "name": "python3"
  },
  "language_info": {
   "codemirror_mode": {
    "name": "ipython",
    "version": 3
   },
   "file_extension": ".py",
   "mimetype": "text/x-python",
   "name": "python",
   "nbconvert_exporter": "python",
   "pygments_lexer": "ipython3",
   "version": "3.8.5"
  }
 },
 "nbformat": 4,
 "nbformat_minor": 5
}
