{
 "cells": [
  {
   "cell_type": "markdown",
   "id": "a86810e4",
   "metadata": {},
   "source": [
    "# 5.4 量子 Fourier 变换的一般应用"
   ]
  },
  {
   "cell_type": "markdown",
   "id": "d9896e8c",
   "metadata": {},
   "source": [
    "## 练习 5.20"
   ]
  },
  {
   "cell_type": "markdown",
   "id": "c53a8c01",
   "metadata": {},
   "source": [
    ":::{admonition} 练习 5.20\n",
    "\n",
    "设 $f(x+r) = f(x)$，且 $0 \\leqslant x < N$，$N$ 是 $r$ 的一个整倍数；计算\n",
    "\n",
    "$$\n",
    "\\hat f(l) = \\frac{1}{\\sqrt{N}} \\sum_{x=0}^{N-1} e^{-2 \\pi i l x / N} f(x)\n",
    "\\tag{5.68}\n",
    "$$\n",
    "\n",
    "并将此结果与式 (5.63) 联系起来。其中用到的事实是\n",
    "\n",
    "$$\n",
    "\\sum_{k \\in \\{0, r, 2r, \\cdots, N-r\\}} e^{2 \\pi i k l / N} = \\left\\{\\begin{alignat*}{10}\n",
    "& N/r, \\quad && \\text{if } l \\text{ is an integer multiple of } N/r \\\\\n",
    "& 0， && \\text{otherwise}\n",
    "\\end{alignat*}\\right.\n",
    "\\tag{5.69}\n",
    "$$\n",
    "\n",
    ":::"
   ]
  },
  {
   "cell_type": "markdown",
   "id": "5d397525",
   "metadata": {},
   "source": [
    ":::{warning}\n",
    "\n",
    "英文原版中，式 (5.69) 是错误的。中文版是正确的。\n",
    "\n",
    ":::"
   ]
  },
  {
   "cell_type": "markdown",
   "id": "fbf53528",
   "metadata": {},
   "source": [
    "书中提到，之所以算法**求周期**的第 (3) 步是近似的，是因为 $N = 2^t$ 不一定是 $r$ 的整数倍数；但若确实是整数倍数，那么这个近似其实就是等价了。我们在这里证明的是 $N$ 是 $r$ 倍数时的等价情况。"
   ]
  },
  {
   "cell_type": "markdown",
   "id": "d40c88aa",
   "metadata": {},
   "source": [
    "什么情况下，算法的第 (3) 步的近似是有效的呢？若 $\\lfloor N/r \\rfloor \\times r$ 到 $N - 1$ 之间的求和在总求和区间即 $0$ 到 $N-1$ 内占比很小时，那么近似是有效的。为了达到一个较好的近似，$N$ 应当要取得足够大。"
   ]
  },
  {
   "cell_type": "markdown",
   "id": "2be8c3e2",
   "metadata": {},
   "source": [
    "**式 (5.69) 验证**"
   ]
  },
  {
   "cell_type": "markdown",
   "id": "5b84e4e2",
   "metadata": {},
   "source": [
    "为了之后证明的方便，我们也要试一下将 (5.69) 的记号进行简化，并对其进行验证。首先，依题目的假设，我们可以定义整数 $j = \\frac{k}{r}$，并定义整数 $\\lambda, c$ 为 $l = \\lambda N/r + c$，其中 $c$ 是小于 $N/r$ 的自然数。那么，待证式 (5.69) 可以写为\n",
    "\n",
    "$$\n",
    "\\sum_{j=0}^{N/r-1} e^{2 \\pi i j r l / N} = \\sum_{j=0}^{N/r-1} e^{2 \\pi i (j \\lambda + jrc / N)} = \\left\\{\\begin{alignat*}{10}\n",
    "& \\frac{N}{r}, \\quad && \\frac{N}{r} \\mid l \\\\\n",
    "& 0， && \\frac{N}{r} \\nmid l\n",
    "\\end{alignat*}\\right.\n",
    "$$"
   ]
  },
  {
   "cell_type": "markdown",
   "id": "923a1820",
   "metadata": {},
   "source": [
    "- 若 $c = 0$，即 $l = \\lambda N / r$ 即 $l$ 是 $N/r$ 的整倍数，那么被求和项是 $e^{2 \\pi i j \\lambda} = 1$。由于总共有 $N/r$ 个求和项，因此总和就是 $N/r$。\n",
    "\n",
    "- 若 $c \\neq 0$，那么被求和项是 $e^{2 \\pi i j \\lambda} e^{2 \\pi i j r c / N} = e^{2 \\pi i j r c / N}$；因此依据以比例为 $\\omega = e^{2 \\pi i r c / N}$ 等比数列的求和方法，\n",
    "\n",
    "    $$\n",
    "    \\sum_{j=0}^{N/r-1} e^{2 \\pi i jrc / N} = \\frac{1 - \\omega^{N/r}}{1 - \\omega} = \\frac{1 - e^{2 \\pi i c}}{1 - \\omega} = \\frac{0}{1 - \\omega} = 0\n",
    "    $$"
   ]
  },
  {
   "cell_type": "markdown",
   "id": "6481719e",
   "metadata": {},
   "source": [
    "**式 (5.68) 验证**"
   ]
  },
  {
   "cell_type": "markdown",
   "id": "8c413d7c",
   "metadata": {},
   "source": [
    "首先，我们可以用 $x = j r + d$ 的形式表示指标；那么在当前的问题下，恰好 $j$ 可以取遍 $0, 1, \\cdots, N/r-1$，而 $d$ 恰好可以取遍 $0, 1, \\cdots, r-1$。那么，我们将 (5.68) 对 $x$ 的求和化为对 $j$ 与 $d$ 的求和了。同时注意到 $f(x+r) = f(x)$ 的周期性条件，因此 $f(x) = f(jr+d) = f(d)$："
   ]
  },
  {
   "cell_type": "markdown",
   "id": "cc0cdce3",
   "metadata": {},
   "source": [
    "$$\n",
    "\\begin{align*}\n",
    "\\hat f(l) = \\frac{1}{\\sqrt{N}} \\sum_{x=0}^{N-1} e^{-2 \\pi i l x / N} f(x) = \\frac{1}{\\sqrt{N}} \\sum_{j=0}^{N/r-1} \\sum_{d=0}^{r-1} e^{-2 \\pi i l (jr+d) / N} f(d)\n",
    "\\end{align*}\n",
    "$$"
   ]
  },
  {
   "cell_type": "markdown",
   "id": "6ff4ff17",
   "metadata": {},
   "source": [
    "我们现在回顾到 $\\sum_{j=0}^{N/r-1} e^{2 \\pi i j r l / N}$ 只有在 $l$ 是 $N/r$ 整倍数时非零且为 $N/r$ 的结论，那么将上式整理可得\n",
    "\n",
    "$$\n",
    "\\hat f(l) = \\frac{1}{\\sqrt{N}} \\sum_{d=0}^{r-1} \\left( \\sum_{j=0}^{N/r-1} e^{-2 \\pi i l jr / N} \\right) e^{-2 \\pi i l d / N} f(d)\n",
    "= \\left\\{\\begin{alignat*}{10}\n",
    "&\\frac{\\sqrt{N}}{r} \\sum_{d=0}^{r-1} e^{-2 \\pi i l d / N} f(d), \\quad && \\frac{N}{r} \\mid l \\\\\n",
    "& 0, && \\frac{N}{r} \\nmid l\n",
    "\\end{alignat*}\n",
    "\\right.\n",
    "$$"
   ]
  },
  {
   "cell_type": "markdown",
   "id": "e20d3779",
   "metadata": {},
   "source": [
    "**与式 (5.63) 的联系**"
   ]
  },
  {
   "cell_type": "markdown",
   "id": "86ff25a6",
   "metadata": {},
   "source": [
    "该式与 (5.63) 看起来相差了归一化因子。我们作如下说明。\n",
    "\n",
    "- 将上面答案中的被求和角标 $d$ 替换为 $x$；并且将 $f(x)$ 表示为右矢空间的态 $|f(x)\\rangle$。\n",
    "- 由于不是所有 $l$ 都需要考虑，因为只有 $l$ 是 $N/r$ 的情况下结果是非平凡的。那么我们就只考虑这些非平凡的 $l$。我们使用 $r$ 维度的向量空间 $|\\hat g(\\lambda)\\rangle$ 来储存这些 $|\\hat f (l) \\rangle = |\\hat g (\\lambda N/r) \\rangle$：\n",
    "\n",
    "    $$\n",
    "    |\\hat g (\\lambda)\\rangle = \\frac{\\sqrt{N}}{r} \\sum_{x=0}^{r-1} e^{-2 \\pi i (\\lambda N / r) x / N} |f(x)\\rangle \\left/ \\sqrt{\\frac{r}{N}} \\right. = \\frac{1}{\\sqrt{r}} \\sum_{x=0}^{r-1} e^{-2 \\pi i \\lambda x / r} |f(x)\\rangle\n",
    "    $$\n",
    "    \n",
    "    "
   ]
  },
  {
   "cell_type": "markdown",
   "id": "e8ffc7bb",
   "metadata": {},
   "source": [
    "之所以要除以 $\\sqrt{r/N}$，是因为我们之前的 $|\\hat f (l)\\rangle$ 的空间是 $l = 0, 1, \\cdots, N-1$ 的 $N$ 维空间；而 $|\\hat g(\\lambda)\\rangle$ 则是 $\\lambda = 1, 2, \\cdots, r$ 的 $r$ 维空间。因此，并非把 $|\\hat f (l)\\rangle$ 的所有非零元素放到 $|\\hat g(\\lambda)\\rangle$ 就好了，还需要作合适的归一化。"
   ]
  },
  {
   "cell_type": "markdown",
   "id": "06e8cdbf",
   "metadata": {},
   "source": [
    "上式其实就是式 (5.63) 了。需要注意，本题的 $l$ 是可以取 $l = 0, 1, \\cdots, N-1$ 的；但式 (5.63) 的 $l$ 其实只能取 $l = 0, 1, \\cdots, r-1$，这也能从式 (5.64) 的求和角标取值范围看出。与式 (5.63) 的 $l$ 其实是这道题的 $\\lambda = l / (N / r)$。"
   ]
  },
  {
   "cell_type": "markdown",
   "id": "87a99bd0",
   "metadata": {},
   "source": [
    "## 练习 5.21 (求周期与相位估计)"
   ]
  },
  {
   "cell_type": "markdown",
   "id": "9cc43856",
   "metadata": {},
   "source": [
    ":::{admonition} 练习 5.21\n",
    "\n",
    "设为上述周期函数，给定一个执行变换 $U_y |f(x)\\rangle = |f(x+y)\\rangle$ 的酉算符 $U_y$。\n",
    "\n",
    "1. 证明 $U_y$ 的特征向量是 $|\\hat f(l)\\rangle$，并计算其特征值；\n",
    "2. 证明对某个 $x_0$ 所给定的 $|f(x_0)\\rangle$，$U_y$ 可被用来实现和求周期问题中的 $U$ 一样有用的黑箱。\n",
    "\n",
    ":::"
   ]
  },
  {
   "cell_type": "markdown",
   "id": "8d48b214",
   "metadata": {},
   "source": [
    "**第一问**"
   ]
  },
  {
   "cell_type": "markdown",
   "id": "26d054d1",
   "metadata": {},
   "source": [
    "我们使用式 (5.63) 所定义的 $|\\hat f(l)\\rangle$。同时，令变量 $u = x + y$，$u' = u - r$。因此，\n",
    "\n",
    "$$\n",
    "\\begin{align*}\n",
    "U_y |\\hat f(l)\\rangle\n",
    "&= \\frac{1}{\\sqrt{r}} \\sum_{x=0}^{r-1} e^{- 2 \\pi i l x / r} |f(x+y)\\rangle \\\\\n",
    "&= \\frac{1}{\\sqrt{r}} \\sum_{u=y}^{r-1+y} e^{- 2 \\pi i l (u-y) / r} |f(u)\\rangle \\\\\n",
    "&= e^{2 \\pi i l y / r} \\frac{1}{\\sqrt{r}} \\sum_{u=y}^{r-1+y} e^{- 2 \\pi i l u / r} |f(u)\\rangle \\\\\n",
    "&= e^{2 \\pi i l y / r} \\frac{1}{\\sqrt{r}} \\left( \\sum_{u=y}^{r-1} e^{- 2 \\pi i l u / r} |f(u)\\rangle + \\sum_{u=r}^{r-1+y} e^{- 2 \\pi i l u / r} |f(u - r)\\rangle \\right) \\\\\n",
    "&= e^{2 \\pi i l y / r} \\frac{1}{\\sqrt{r}} \\left( \\sum_{u=y}^{r-1} e^{- 2 \\pi i l u / r} |f(u)\\rangle + \\sum_{u'=0}^{y-1} e^{- 2 \\pi i l (u' + r) / r} |f(u')\\rangle \\right) \\\\\n",
    "&= e^{2 \\pi i l y / r} |\\hat f(l)\\rangle\n",
    "\\end{align*}\n",
    "$$"
   ]
  },
  {
   "cell_type": "markdown",
   "id": "2f0db2df",
   "metadata": {},
   "source": [
    "第四个等号利用的是 $|f(x)\\rangle$ 以 $r$ 为周期的性质；第六个等号则利用了 $e^{- 2 \\pi i l} = 1$，且回顾 $|\\hat f(l)\\rangle$ 的定义就可以推导出来。因此我们验证了 $|\\hat f(l)\\rangle$ 是 $U_y$ 的本征态，且本征值是 $e^{2 \\pi i l y / r}$。"
   ]
  },
  {
   "cell_type": "markdown",
   "id": "1a85210a",
   "metadata": {},
   "source": [
    "**第二问**"
   ]
  },
  {
   "cell_type": "markdown",
   "id": "f1690d8d",
   "metadata": {},
   "source": [
    "对于特定的 $x_0$，我们先要对其依据式 (5.64)，将其拆解为 $U_y$ 本征态的线性组合 (注意对于第一寄存器比特数 $t$，若 $r \\nmid 2^t$，那么下式在实际实现过程中会成为近似)：\n",
    "\n",
    "$$\n",
    "|f(x_0)\\rangle = \\frac{1}{\\sqrt{r}} \\sum_{l=0}^{r-1} e^{2 \\pi i l x_0 / r} |\\hat f(l)\\rangle\n",
    "$$"
   ]
  },
  {
   "cell_type": "markdown",
   "id": "add2bef9",
   "metadata": {},
   "source": [
    "那么就可以利用算符的线性性质，将 $U_y$ 作用在 $|f(x_0)\\rangle$ 上得到\n",
    "\n",
    "$$\n",
    "|x_0\\rangle U_y |f(x_0)\\rangle = \\frac{1}{\\sqrt{r}} \\sum_{l=0}^{r-1} e^{2 \\pi i l x_0 / r} |x_0\\rangle U_y |\\hat f(l)\\rangle = \\frac{1}{\\sqrt{r}} \\sum_{l=0}^{r-1} e^{2 \\pi i l x_0 / r} e^{- 2 \\pi i l y / r} |x_0\\rangle |\\hat f(l)\\rangle\n",
    "$$"
   ]
  },
  {
   "cell_type": "markdown",
   "id": "ad5d49e4",
   "metadata": {},
   "source": [
    "对于实际线路中，$x$ 是要被求和的，即两个寄存器实际状态是\n",
    "\n",
    "$$\n",
    "\\frac{1}{\\sqrt{2^t}} \\sum_{x=0}^{2^t - 1} |x\\rangle U_y |f(x)\\rangle = \\frac{1}{\\sqrt{r 2^t}} \\sum_{l=0}^{r-1} e^{-2 \\pi i l y / r} \\sum_{x=0}^{2^t-1} e^{2 \\pi i l x / r} |x\\rangle |\\hat f(l)\\rangle\n",
    "$$"
   ]
  },
  {
   "cell_type": "markdown",
   "id": "da16eb67",
   "metadata": {},
   "source": [
    "需要注意，由于逆向 Fourier 变换只在第一寄存器上计算，该过程可以写为\n",
    "\n",
    "$$\n",
    "\\frac{1}{\\sqrt{2^t}} \\sum_{x=0}^{2^t-1} e^{2 \\pi i l x / r} |x\\rangle \\rightarrow |\\widetilde{l/r}\\rangle\n",
    "$$"
   ]
  },
  {
   "cell_type": "markdown",
   "id": "ca6c0bce",
   "metadata": {},
   "source": [
    "因此，在逆向 Fourier 变换后，所有寄存器上的状态表示为\n",
    "\n",
    "$$\n",
    "\\frac{1}{\\sqrt{r}} \\sum_{l=0}^{r-1} e^{-2 \\pi i l y / r} |\\widetilde{l/r}\\rangle |\\hat f(l)\\rangle\n",
    "$$"
   ]
  },
  {
   "cell_type": "markdown",
   "id": "cfc4013d",
   "metadata": {},
   "source": [
    "随后对第一寄存器测得分数 $\\widetilde{l/r}$。因此，我们注意到尽管使用 $U_y: |f(x)\\rangle \\mapsto |f(x+y)\\rangle$ 相比于 $U: |f(x)\\rangle \\mapsto |y \\oplus f(x)\\rangle$ 在最终的寄存器表达式中多了 $e^{-2 \\pi i l y / r}$ 一项，但它只是个相位。测得的 $\\widetilde{l/r}$ 是相同的，而且对于每个 $l = 0, 1, \\cdots, r-1$，其出现的概率也相同。"
   ]
  },
  {
   "cell_type": "code",
   "execution_count": null,
   "id": "eb6da1f2",
   "metadata": {},
   "outputs": [],
   "source": []
  },
  {
   "cell_type": "code",
   "execution_count": null,
   "id": "0d1fb104",
   "metadata": {},
   "outputs": [],
   "source": []
  },
  {
   "cell_type": "code",
   "execution_count": null,
   "id": "5d1b9254",
   "metadata": {},
   "outputs": [],
   "source": []
  },
  {
   "cell_type": "code",
   "execution_count": null,
   "id": "a982fb4d",
   "metadata": {},
   "outputs": [],
   "source": []
  },
  {
   "cell_type": "code",
   "execution_count": null,
   "id": "f74c266c",
   "metadata": {},
   "outputs": [],
   "source": []
  },
  {
   "cell_type": "code",
   "execution_count": null,
   "id": "37c07a14",
   "metadata": {},
   "outputs": [],
   "source": []
  },
  {
   "cell_type": "code",
   "execution_count": null,
   "id": "6e983c13",
   "metadata": {},
   "outputs": [],
   "source": []
  },
  {
   "cell_type": "code",
   "execution_count": null,
   "id": "779f92b5",
   "metadata": {},
   "outputs": [],
   "source": []
  },
  {
   "cell_type": "code",
   "execution_count": null,
   "id": "16a98235",
   "metadata": {},
   "outputs": [],
   "source": []
  },
  {
   "cell_type": "code",
   "execution_count": null,
   "id": "26f13614",
   "metadata": {},
   "outputs": [],
   "source": []
  }
 ],
 "metadata": {
  "kernelspec": {
   "display_name": "Python 3",
   "language": "python",
   "name": "python3"
  },
  "language_info": {
   "codemirror_mode": {
    "name": "ipython",
    "version": 3
   },
   "file_extension": ".py",
   "mimetype": "text/x-python",
   "name": "python",
   "nbconvert_exporter": "python",
   "pygments_lexer": "ipython3",
   "version": "3.8.5"
  }
 },
 "nbformat": 4,
 "nbformat_minor": 5
}
